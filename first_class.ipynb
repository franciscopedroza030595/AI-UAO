{
  "nbformat": 4,
  "nbformat_minor": 0,
  "metadata": {
    "colab": {
      "name": "first-class.ipynb",
      "provenance": [],
      "authorship_tag": "ABX9TyNwhi83xGdV4KMoSIngr3dI",
      "include_colab_link": true
    },
    "kernelspec": {
      "name": "python3",
      "display_name": "Python 3"
    }
  },
  "cells": [
    {
      "cell_type": "markdown",
      "metadata": {
        "id": "view-in-github",
        "colab_type": "text"
      },
      "source": [
        "<a href=\"https://colab.research.google.com/github/franciscopedroza030595/AI-UAO/blob/master/first_class.ipynb\" target=\"_parent\"><img src=\"https://colab.research.google.com/assets/colab-badge.svg\" alt=\"Open In Colab\"/></a>"
      ]
    },
    {
      "cell_type": "code",
      "metadata": {
        "id": "MwXIO7kqfmvT",
        "colab_type": "code",
        "colab": {
          "base_uri": "https://localhost:8080/",
          "height": 35
        },
        "outputId": "52f90b57-305d-4c8f-f430-e653c21755c1"
      },
      "source": [
        "print(\"hola mundo\")"
      ],
      "execution_count": 1,
      "outputs": [
        {
          "output_type": "stream",
          "text": [
            "hola mundo\n"
          ],
          "name": "stdout"
        }
      ]
    },
    {
      "cell_type": "markdown",
      "metadata": {
        "id": "VCyt79b3mSSS",
        "colab_type": "text"
      },
      "source": [
        "## capitulo\n",
        "\n",
        "$$x = \\frac{5} {2}$$"
      ]
    },
    {
      "cell_type": "code",
      "metadata": {
        "id": "79U8h5qgkfMX",
        "colab_type": "code",
        "colab": {
          "base_uri": "https://localhost:8080/",
          "height": 72
        },
        "outputId": "bf36b8ac-afeb-4075-f15a-d950a73e127f"
      },
      "source": [
        "data = \"hello world\"\n",
        "print(data[0])\n",
        "print(len(data))\n",
        "print(data)"
      ],
      "execution_count": 2,
      "outputs": [
        {
          "output_type": "stream",
          "text": [
            "h\n",
            "11\n",
            "hello world\n"
          ],
          "name": "stdout"
        }
      ]
    },
    {
      "cell_type": "code",
      "metadata": {
        "id": "1b232BHupIlp",
        "colab_type": "code",
        "colab": {
          "base_uri": "https://localhost:8080/",
          "height": 72
        },
        "outputId": "3fe18214-15f7-4f92-a99e-734c2d94f4c0"
      },
      "source": [
        "number = int(input(\"write a number: \"))\n",
        "print(\"the number you entered was \" , number)\n",
        "number"
      ],
      "execution_count": 8,
      "outputs": [
        {
          "output_type": "stream",
          "text": [
            "write a number: 4\n",
            "the number you entered was  4\n"
          ],
          "name": "stdout"
        },
        {
          "output_type": "execute_result",
          "data": {
            "text/plain": [
              "4"
            ]
          },
          "metadata": {
            "tags": []
          },
          "execution_count": 8
        }
      ]
    },
    {
      "cell_type": "markdown",
      "metadata": {
        "id": "1XdlvlEx7gtv",
        "colab_type": "text"
      },
      "source": [
        "setencia for"
      ]
    },
    {
      "cell_type": "code",
      "metadata": {
        "id": "8XNWHjfbvq2h",
        "colab_type": "code",
        "colab": {
          "base_uri": "https://localhost:8080/",
          "height": 253
        },
        "outputId": "eded5bf3-be68-48b1-8270-2dda661e7cf0"
      },
      "source": [
        "print(\"inicio\")\n",
        "for numero in range(10):\n",
        "  print(\"hola \", end=\"\\n\")\n",
        "print()\n",
        "print(\"final\")"
      ],
      "execution_count": 13,
      "outputs": [
        {
          "output_type": "stream",
          "text": [
            "inicio\n",
            "hola \n",
            "hola \n",
            "hola \n",
            "hola \n",
            "hola \n",
            "hola \n",
            "hola \n",
            "hola \n",
            "hola \n",
            "hola \n",
            "\n",
            "final\n"
          ],
          "name": "stdout"
        }
      ]
    },
    {
      "cell_type": "code",
      "metadata": {
        "id": "Y1YNfVcB8DJ1",
        "colab_type": "code",
        "colab": {
          "base_uri": "https://localhost:8080/",
          "height": 90
        },
        "outputId": "7d5aad2e-2676-403c-d558-9d41517b59a0"
      },
      "source": [
        "i=1\n",
        "while i<=3:\n",
        "  print(i)\n",
        "  i+=1\n",
        "  \n",
        "print(\"fin\")"
      ],
      "execution_count": 19,
      "outputs": [
        {
          "output_type": "stream",
          "text": [
            "1\n",
            "2\n",
            "3\n",
            "fin\n"
          ],
          "name": "stdout"
        }
      ]
    },
    {
      "cell_type": "code",
      "metadata": {
        "id": "RGzA1O-H9AEc",
        "colab_type": "code",
        "colab": {}
      },
      "source": [
        ""
      ],
      "execution_count": null,
      "outputs": []
    }
  ]
}